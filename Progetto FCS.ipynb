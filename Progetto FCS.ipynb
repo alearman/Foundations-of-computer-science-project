{
 "cells": [
  {
   "cell_type": "markdown",
   "metadata": {},
   "source": [
    "Importazione dataset"
   ]
  },
  {
   "cell_type": "code",
   "execution_count": 1,
   "metadata": {},
   "outputs": [],
   "source": [
    "import pandas as pd\n",
    "import numpy as np\n",
    "import re"
   ]
  },
  {
   "cell_type": "code",
   "execution_count": 2,
   "metadata": {
    "scrolled": false
   },
   "outputs": [
    {
     "data": {
      "text/html": [
       "<div>\n",
       "<style scoped>\n",
       "    .dataframe tbody tr th:only-of-type {\n",
       "        vertical-align: middle;\n",
       "    }\n",
       "\n",
       "    .dataframe tbody tr th {\n",
       "        vertical-align: top;\n",
       "    }\n",
       "\n",
       "    .dataframe thead th {\n",
       "        text-align: right;\n",
       "    }\n",
       "</style>\n",
       "<table border=\"1\" class=\"dataframe\">\n",
       "  <thead>\n",
       "    <tr style=\"text-align: right;\">\n",
       "      <th></th>\n",
       "      <th>loan_id</th>\n",
       "      <th>lenders</th>\n",
       "    </tr>\n",
       "  </thead>\n",
       "  <tbody>\n",
       "    <tr>\n",
       "      <td>0</td>\n",
       "      <td>483693</td>\n",
       "      <td>muc888, sam4326, camaran3922, lachheb1865, reb...</td>\n",
       "    </tr>\n",
       "    <tr>\n",
       "      <td>1</td>\n",
       "      <td>483738</td>\n",
       "      <td>muc888, nora3555, williammanashi, barbara5610,...</td>\n",
       "    </tr>\n",
       "    <tr>\n",
       "      <td>2</td>\n",
       "      <td>485000</td>\n",
       "      <td>muc888, terrystl, richardandsusan8352, sherri4...</td>\n",
       "    </tr>\n",
       "    <tr>\n",
       "      <td>3</td>\n",
       "      <td>486087</td>\n",
       "      <td>muc888, james5068, rudi5955, daniel9859, don92...</td>\n",
       "    </tr>\n",
       "    <tr>\n",
       "      <td>4</td>\n",
       "      <td>534428</td>\n",
       "      <td>muc888, niki3008, teresa9174, mike4896, david7...</td>\n",
       "    </tr>\n",
       "  </tbody>\n",
       "</table>\n",
       "</div>"
      ],
      "text/plain": [
       "   loan_id                                            lenders\n",
       "0   483693  muc888, sam4326, camaran3922, lachheb1865, reb...\n",
       "1   483738  muc888, nora3555, williammanashi, barbara5610,...\n",
       "2   485000  muc888, terrystl, richardandsusan8352, sherri4...\n",
       "3   486087  muc888, james5068, rudi5955, daniel9859, don92...\n",
       "4   534428  muc888, niki3008, teresa9174, mike4896, david7..."
      ]
     },
     "metadata": {},
     "output_type": "display_data"
    },
    {
     "data": {
      "text/html": [
       "<div>\n",
       "<style scoped>\n",
       "    .dataframe tbody tr th:only-of-type {\n",
       "        vertical-align: middle;\n",
       "    }\n",
       "\n",
       "    .dataframe tbody tr th {\n",
       "        vertical-align: top;\n",
       "    }\n",
       "\n",
       "    .dataframe thead th {\n",
       "        text-align: right;\n",
       "    }\n",
       "</style>\n",
       "<table border=\"1\" class=\"dataframe\">\n",
       "  <thead>\n",
       "    <tr style=\"text-align: right;\">\n",
       "      <th></th>\n",
       "      <th>loan_id</th>\n",
       "      <th>lenders</th>\n",
       "    </tr>\n",
       "  </thead>\n",
       "  <tbody>\n",
       "    <tr>\n",
       "      <td>1387427</td>\n",
       "      <td>678999</td>\n",
       "      <td>michael43411218, carol5987, gooddogg1, chris41...</td>\n",
       "    </tr>\n",
       "    <tr>\n",
       "      <td>1387428</td>\n",
       "      <td>1207353</td>\n",
       "      <td>rjhoward1986, jeffrey6870, trolltech4460, elys...</td>\n",
       "    </tr>\n",
       "    <tr>\n",
       "      <td>1387429</td>\n",
       "      <td>1206220</td>\n",
       "      <td>vicky7746, gooddogg1, fairspirit, craig9729960...</td>\n",
       "    </tr>\n",
       "    <tr>\n",
       "      <td>1387430</td>\n",
       "      <td>1206425</td>\n",
       "      <td>rich6705, sergiiy9766, angela7509, barbara5610...</td>\n",
       "    </tr>\n",
       "    <tr>\n",
       "      <td>1387431</td>\n",
       "      <td>1206486</td>\n",
       "      <td>alan5175, amy38101311</td>\n",
       "    </tr>\n",
       "  </tbody>\n",
       "</table>\n",
       "</div>"
      ],
      "text/plain": [
       "         loan_id                                            lenders\n",
       "1387427   678999  michael43411218, carol5987, gooddogg1, chris41...\n",
       "1387428  1207353  rjhoward1986, jeffrey6870, trolltech4460, elys...\n",
       "1387429  1206220  vicky7746, gooddogg1, fairspirit, craig9729960...\n",
       "1387430  1206425  rich6705, sergiiy9766, angela7509, barbara5610...\n",
       "1387431  1206486                              alan5175, amy38101311"
      ]
     },
     "metadata": {},
     "output_type": "display_data"
    }
   ],
   "source": [
    "loans_lenders=pd.read_csv(\"C:\\\\Users\\\\Alessio\\\\Desktop\\\\Universita\\\\Magistrale\\\\Primo anno\\\\Foundations of computer science\\\\Progetto\\\\additional-kiva-snapshot\\\\loans_lenders.csv\")\n",
    "display(loans_lenders.head(),loans_lenders.tail())"
   ]
  },
  {
   "cell_type": "code",
   "execution_count": 3,
   "metadata": {
    "scrolled": true
   },
   "outputs": [
    {
     "data": {
      "text/html": [
       "<div>\n",
       "<style scoped>\n",
       "    .dataframe tbody tr th:only-of-type {\n",
       "        vertical-align: middle;\n",
       "    }\n",
       "\n",
       "    .dataframe tbody tr th {\n",
       "        vertical-align: top;\n",
       "    }\n",
       "\n",
       "    .dataframe thead th {\n",
       "        text-align: right;\n",
       "    }\n",
       "</style>\n",
       "<table border=\"1\" class=\"dataframe\">\n",
       "  <thead>\n",
       "    <tr style=\"text-align: right;\">\n",
       "      <th></th>\n",
       "      <th>loan_id</th>\n",
       "      <th>loan_name</th>\n",
       "      <th>original_language</th>\n",
       "      <th>description</th>\n",
       "      <th>description_translated</th>\n",
       "      <th>funded_amount</th>\n",
       "      <th>loan_amount</th>\n",
       "      <th>status</th>\n",
       "      <th>activity_name</th>\n",
       "      <th>sector_name</th>\n",
       "      <th>...</th>\n",
       "      <th>raised_time</th>\n",
       "      <th>lender_term</th>\n",
       "      <th>num_lenders_total</th>\n",
       "      <th>num_journal_entries</th>\n",
       "      <th>num_bulk_entries</th>\n",
       "      <th>tags</th>\n",
       "      <th>borrower_genders</th>\n",
       "      <th>borrower_pictured</th>\n",
       "      <th>repayment_interval</th>\n",
       "      <th>distribution_model</th>\n",
       "    </tr>\n",
       "  </thead>\n",
       "  <tbody>\n",
       "    <tr>\n",
       "      <td>0</td>\n",
       "      <td>657307</td>\n",
       "      <td>Aivy</td>\n",
       "      <td>English</td>\n",
       "      <td>Aivy, 21 years of age, is single and lives in ...</td>\n",
       "      <td>NaN</td>\n",
       "      <td>125.0</td>\n",
       "      <td>125.0</td>\n",
       "      <td>funded</td>\n",
       "      <td>General Store</td>\n",
       "      <td>Retail</td>\n",
       "      <td>...</td>\n",
       "      <td>2014-01-15 04:48:22.000 +0000</td>\n",
       "      <td>7.0</td>\n",
       "      <td>3</td>\n",
       "      <td>2</td>\n",
       "      <td>1</td>\n",
       "      <td>NaN</td>\n",
       "      <td>female</td>\n",
       "      <td>true</td>\n",
       "      <td>irregular</td>\n",
       "      <td>field_partner</td>\n",
       "    </tr>\n",
       "    <tr>\n",
       "      <td>1</td>\n",
       "      <td>657259</td>\n",
       "      <td>Idalia Marizza</td>\n",
       "      <td>Spanish</td>\n",
       "      <td>Doña Idalia, esta casada, tiene 57 años de eda...</td>\n",
       "      <td>Idalia, 57, is married and lives with her husb...</td>\n",
       "      <td>400.0</td>\n",
       "      <td>400.0</td>\n",
       "      <td>funded</td>\n",
       "      <td>Used Clothing</td>\n",
       "      <td>Clothing</td>\n",
       "      <td>...</td>\n",
       "      <td>2014-02-25 06:42:06.000 +0000</td>\n",
       "      <td>8.0</td>\n",
       "      <td>11</td>\n",
       "      <td>2</td>\n",
       "      <td>1</td>\n",
       "      <td>NaN</td>\n",
       "      <td>female</td>\n",
       "      <td>true</td>\n",
       "      <td>monthly</td>\n",
       "      <td>field_partner</td>\n",
       "    </tr>\n",
       "    <tr>\n",
       "      <td>2</td>\n",
       "      <td>658010</td>\n",
       "      <td>Aasia</td>\n",
       "      <td>English</td>\n",
       "      <td>Aasia is a 45-year-old married lady and she ha...</td>\n",
       "      <td>NaN</td>\n",
       "      <td>400.0</td>\n",
       "      <td>400.0</td>\n",
       "      <td>funded</td>\n",
       "      <td>General Store</td>\n",
       "      <td>Retail</td>\n",
       "      <td>...</td>\n",
       "      <td>2014-01-24 23:06:18.000 +0000</td>\n",
       "      <td>14.0</td>\n",
       "      <td>16</td>\n",
       "      <td>2</td>\n",
       "      <td>1</td>\n",
       "      <td>#Woman Owned Biz, #Supporting Family, user_fav...</td>\n",
       "      <td>female</td>\n",
       "      <td>true</td>\n",
       "      <td>monthly</td>\n",
       "      <td>field_partner</td>\n",
       "    </tr>\n",
       "    <tr>\n",
       "      <td>3</td>\n",
       "      <td>659347</td>\n",
       "      <td>Gulmira</td>\n",
       "      <td>Russian</td>\n",
       "      <td>Гулмире 36 лет, замужем, вместе с супругом вос...</td>\n",
       "      <td>Gulmira is 36 years old and married.  She and ...</td>\n",
       "      <td>625.0</td>\n",
       "      <td>625.0</td>\n",
       "      <td>funded</td>\n",
       "      <td>Farming</td>\n",
       "      <td>Agriculture</td>\n",
       "      <td>...</td>\n",
       "      <td>2014-01-22 05:29:28.000 +0000</td>\n",
       "      <td>14.0</td>\n",
       "      <td>21</td>\n",
       "      <td>2</td>\n",
       "      <td>1</td>\n",
       "      <td>user_favorite</td>\n",
       "      <td>female</td>\n",
       "      <td>true</td>\n",
       "      <td>monthly</td>\n",
       "      <td>field_partner</td>\n",
       "    </tr>\n",
       "    <tr>\n",
       "      <td>4</td>\n",
       "      <td>656933</td>\n",
       "      <td>Ricky\\t</td>\n",
       "      <td>English</td>\n",
       "      <td>Ricky is a farmer who currently cultivates his...</td>\n",
       "      <td>NaN</td>\n",
       "      <td>425.0</td>\n",
       "      <td>425.0</td>\n",
       "      <td>funded</td>\n",
       "      <td>Farming</td>\n",
       "      <td>Agriculture</td>\n",
       "      <td>...</td>\n",
       "      <td>2014-01-14 17:29:27.000 +0000</td>\n",
       "      <td>7.0</td>\n",
       "      <td>15</td>\n",
       "      <td>2</td>\n",
       "      <td>1</td>\n",
       "      <td>#Animals, #Eco-friendly, #Sustainable Ag</td>\n",
       "      <td>male</td>\n",
       "      <td>true</td>\n",
       "      <td>bullet</td>\n",
       "      <td>field_partner</td>\n",
       "    </tr>\n",
       "  </tbody>\n",
       "</table>\n",
       "<p>5 rows × 31 columns</p>\n",
       "</div>"
      ],
      "text/plain": [
       "   loan_id       loan_name original_language  \\\n",
       "0   657307            Aivy           English   \n",
       "1   657259  Idalia Marizza           Spanish   \n",
       "2   658010           Aasia           English   \n",
       "3   659347         Gulmira           Russian   \n",
       "4   656933         Ricky\\t           English   \n",
       "\n",
       "                                         description  \\\n",
       "0  Aivy, 21 years of age, is single and lives in ...   \n",
       "1  Doña Idalia, esta casada, tiene 57 años de eda...   \n",
       "2  Aasia is a 45-year-old married lady and she ha...   \n",
       "3  Гулмире 36 лет, замужем, вместе с супругом вос...   \n",
       "4  Ricky is a farmer who currently cultivates his...   \n",
       "\n",
       "                              description_translated  funded_amount  \\\n",
       "0                                                NaN          125.0   \n",
       "1  Idalia, 57, is married and lives with her husb...          400.0   \n",
       "2                                                NaN          400.0   \n",
       "3  Gulmira is 36 years old and married.  She and ...          625.0   \n",
       "4                                                NaN          425.0   \n",
       "\n",
       "   loan_amount  status  activity_name  sector_name  ...  \\\n",
       "0        125.0  funded  General Store       Retail  ...   \n",
       "1        400.0  funded  Used Clothing     Clothing  ...   \n",
       "2        400.0  funded  General Store       Retail  ...   \n",
       "3        625.0  funded        Farming  Agriculture  ...   \n",
       "4        425.0  funded        Farming  Agriculture  ...   \n",
       "\n",
       "                     raised_time lender_term num_lenders_total  \\\n",
       "0  2014-01-15 04:48:22.000 +0000         7.0                 3   \n",
       "1  2014-02-25 06:42:06.000 +0000         8.0                11   \n",
       "2  2014-01-24 23:06:18.000 +0000        14.0                16   \n",
       "3  2014-01-22 05:29:28.000 +0000        14.0                21   \n",
       "4  2014-01-14 17:29:27.000 +0000         7.0                15   \n",
       "\n",
       "  num_journal_entries num_bulk_entries  \\\n",
       "0                   2                1   \n",
       "1                   2                1   \n",
       "2                   2                1   \n",
       "3                   2                1   \n",
       "4                   2                1   \n",
       "\n",
       "                                                tags borrower_genders  \\\n",
       "0                                                NaN           female   \n",
       "1                                                NaN           female   \n",
       "2  #Woman Owned Biz, #Supporting Family, user_fav...           female   \n",
       "3                                      user_favorite           female   \n",
       "4           #Animals, #Eco-friendly, #Sustainable Ag             male   \n",
       "\n",
       "   borrower_pictured repayment_interval distribution_model  \n",
       "0               true          irregular      field_partner  \n",
       "1               true            monthly      field_partner  \n",
       "2               true            monthly      field_partner  \n",
       "3               true            monthly      field_partner  \n",
       "4               true             bullet      field_partner  \n",
       "\n",
       "[5 rows x 31 columns]"
      ]
     },
     "metadata": {},
     "output_type": "display_data"
    },
    {
     "data": {
      "text/html": [
       "<div>\n",
       "<style scoped>\n",
       "    .dataframe tbody tr th:only-of-type {\n",
       "        vertical-align: middle;\n",
       "    }\n",
       "\n",
       "    .dataframe tbody tr th {\n",
       "        vertical-align: top;\n",
       "    }\n",
       "\n",
       "    .dataframe thead th {\n",
       "        text-align: right;\n",
       "    }\n",
       "</style>\n",
       "<table border=\"1\" class=\"dataframe\">\n",
       "  <thead>\n",
       "    <tr style=\"text-align: right;\">\n",
       "      <th></th>\n",
       "      <th>loan_id</th>\n",
       "      <th>loan_name</th>\n",
       "      <th>original_language</th>\n",
       "      <th>description</th>\n",
       "      <th>description_translated</th>\n",
       "      <th>funded_amount</th>\n",
       "      <th>loan_amount</th>\n",
       "      <th>status</th>\n",
       "      <th>activity_name</th>\n",
       "      <th>sector_name</th>\n",
       "      <th>...</th>\n",
       "      <th>raised_time</th>\n",
       "      <th>lender_term</th>\n",
       "      <th>num_lenders_total</th>\n",
       "      <th>num_journal_entries</th>\n",
       "      <th>num_bulk_entries</th>\n",
       "      <th>tags</th>\n",
       "      <th>borrower_genders</th>\n",
       "      <th>borrower_pictured</th>\n",
       "      <th>repayment_interval</th>\n",
       "      <th>distribution_model</th>\n",
       "    </tr>\n",
       "  </thead>\n",
       "  <tbody>\n",
       "    <tr>\n",
       "      <td>1419602</td>\n",
       "      <td>988180</td>\n",
       "      <td>NaN</td>\n",
       "      <td>NaN</td>\n",
       "      <td>NaN</td>\n",
       "      <td>NaN</td>\n",
       "      <td>400.0</td>\n",
       "      <td>400.0</td>\n",
       "      <td>funded</td>\n",
       "      <td>Tailoring</td>\n",
       "      <td>Services</td>\n",
       "      <td>...</td>\n",
       "      <td>2015-12-28 15:44:18.000 +0000</td>\n",
       "      <td>14.0</td>\n",
       "      <td>16</td>\n",
       "      <td>4</td>\n",
       "      <td>2</td>\n",
       "      <td>#Parent, #Repeat Borrower, #Woman Owned Biz</td>\n",
       "      <td>NaN</td>\n",
       "      <td>NaN</td>\n",
       "      <td>monthly</td>\n",
       "      <td>field_partner</td>\n",
       "    </tr>\n",
       "    <tr>\n",
       "      <td>1419603</td>\n",
       "      <td>988213</td>\n",
       "      <td>Perlita</td>\n",
       "      <td>English</td>\n",
       "      <td>Perlita is 52 years old, married and has three...</td>\n",
       "      <td>Perlita is 52 years old, married and has three...</td>\n",
       "      <td>300.0</td>\n",
       "      <td>300.0</td>\n",
       "      <td>funded</td>\n",
       "      <td>Pigs</td>\n",
       "      <td>Agriculture</td>\n",
       "      <td>...</td>\n",
       "      <td>2015-12-22 10:37:06.000 +0000</td>\n",
       "      <td>14.0</td>\n",
       "      <td>12</td>\n",
       "      <td>1</td>\n",
       "      <td>1</td>\n",
       "      <td>#Animals, #Elderly, #Repeat Borrower, #Woman O...</td>\n",
       "      <td>female</td>\n",
       "      <td>true</td>\n",
       "      <td>irregular</td>\n",
       "      <td>field_partner</td>\n",
       "    </tr>\n",
       "    <tr>\n",
       "      <td>1419604</td>\n",
       "      <td>989109</td>\n",
       "      <td>Okyeso Nyame Group</td>\n",
       "      <td>English</td>\n",
       "      <td>Okyeso Nyame group will begin its third cycle ...</td>\n",
       "      <td>Okyeso Nyame group will begin its third cycle ...</td>\n",
       "      <td>2425.0</td>\n",
       "      <td>2425.0</td>\n",
       "      <td>funded</td>\n",
       "      <td>Bakery</td>\n",
       "      <td>Food</td>\n",
       "      <td>...</td>\n",
       "      <td>2015-12-26 20:24:47.000 +0000</td>\n",
       "      <td>8.0</td>\n",
       "      <td>76</td>\n",
       "      <td>2</td>\n",
       "      <td>1</td>\n",
       "      <td>user_favorite, #Parent, #Vegan, #Woman Owned B...</td>\n",
       "      <td>female, female, female, male, male, female</td>\n",
       "      <td>true, true, true, true, true, true</td>\n",
       "      <td>irregular</td>\n",
       "      <td>field_partner</td>\n",
       "    </tr>\n",
       "    <tr>\n",
       "      <td>1419605</td>\n",
       "      <td>989143</td>\n",
       "      <td>Exequila</td>\n",
       "      <td>English</td>\n",
       "      <td>Exequila  is from San Miguel, Bohol. She is in...</td>\n",
       "      <td>Exequila  is from San Miguel, Bohol. She is in...</td>\n",
       "      <td>100.0</td>\n",
       "      <td>100.0</td>\n",
       "      <td>funded</td>\n",
       "      <td>Farming</td>\n",
       "      <td>Agriculture</td>\n",
       "      <td>...</td>\n",
       "      <td>2015-12-06 21:03:57.000 +0000</td>\n",
       "      <td>12.0</td>\n",
       "      <td>3</td>\n",
       "      <td>1</td>\n",
       "      <td>1</td>\n",
       "      <td>NaN</td>\n",
       "      <td>female</td>\n",
       "      <td>true</td>\n",
       "      <td>irregular</td>\n",
       "      <td>field_partner</td>\n",
       "    </tr>\n",
       "    <tr>\n",
       "      <td>1419606</td>\n",
       "      <td>989240</td>\n",
       "      <td>Lydia</td>\n",
       "      <td>French</td>\n",
       "      <td>Lydia a 37ans et habite dans une zone rurale. ...</td>\n",
       "      <td>Lydia is 37 years old and lives in a rural are...</td>\n",
       "      <td>175.0</td>\n",
       "      <td>175.0</td>\n",
       "      <td>funded</td>\n",
       "      <td>Sewing</td>\n",
       "      <td>Services</td>\n",
       "      <td>...</td>\n",
       "      <td>2015-12-04 23:17:04.000 +0000</td>\n",
       "      <td>14.0</td>\n",
       "      <td>7</td>\n",
       "      <td>1</td>\n",
       "      <td>1</td>\n",
       "      <td>NaN</td>\n",
       "      <td>female</td>\n",
       "      <td>true</td>\n",
       "      <td>monthly</td>\n",
       "      <td>field_partner</td>\n",
       "    </tr>\n",
       "  </tbody>\n",
       "</table>\n",
       "<p>5 rows × 31 columns</p>\n",
       "</div>"
      ],
      "text/plain": [
       "         loan_id           loan_name original_language  \\\n",
       "1419602   988180                 NaN               NaN   \n",
       "1419603   988213             Perlita           English   \n",
       "1419604   989109  Okyeso Nyame Group           English   \n",
       "1419605   989143            Exequila           English   \n",
       "1419606   989240               Lydia            French   \n",
       "\n",
       "                                               description  \\\n",
       "1419602                                                NaN   \n",
       "1419603  Perlita is 52 years old, married and has three...   \n",
       "1419604  Okyeso Nyame group will begin its third cycle ...   \n",
       "1419605  Exequila  is from San Miguel, Bohol. She is in...   \n",
       "1419606  Lydia a 37ans et habite dans une zone rurale. ...   \n",
       "\n",
       "                                    description_translated  funded_amount  \\\n",
       "1419602                                                NaN          400.0   \n",
       "1419603  Perlita is 52 years old, married and has three...          300.0   \n",
       "1419604  Okyeso Nyame group will begin its third cycle ...         2425.0   \n",
       "1419605  Exequila  is from San Miguel, Bohol. She is in...          100.0   \n",
       "1419606  Lydia is 37 years old and lives in a rural are...          175.0   \n",
       "\n",
       "         loan_amount  status activity_name  sector_name  ...  \\\n",
       "1419602        400.0  funded     Tailoring     Services  ...   \n",
       "1419603        300.0  funded          Pigs  Agriculture  ...   \n",
       "1419604       2425.0  funded        Bakery         Food  ...   \n",
       "1419605        100.0  funded       Farming  Agriculture  ...   \n",
       "1419606        175.0  funded        Sewing     Services  ...   \n",
       "\n",
       "                           raised_time lender_term num_lenders_total  \\\n",
       "1419602  2015-12-28 15:44:18.000 +0000        14.0                16   \n",
       "1419603  2015-12-22 10:37:06.000 +0000        14.0                12   \n",
       "1419604  2015-12-26 20:24:47.000 +0000         8.0                76   \n",
       "1419605  2015-12-06 21:03:57.000 +0000        12.0                 3   \n",
       "1419606  2015-12-04 23:17:04.000 +0000        14.0                 7   \n",
       "\n",
       "        num_journal_entries num_bulk_entries  \\\n",
       "1419602                   4                2   \n",
       "1419603                   1                1   \n",
       "1419604                   2                1   \n",
       "1419605                   1                1   \n",
       "1419606                   1                1   \n",
       "\n",
       "                                                      tags  \\\n",
       "1419602        #Parent, #Repeat Borrower, #Woman Owned Biz   \n",
       "1419603  #Animals, #Elderly, #Repeat Borrower, #Woman O...   \n",
       "1419604  user_favorite, #Parent, #Vegan, #Woman Owned B...   \n",
       "1419605                                                NaN   \n",
       "1419606                                                NaN   \n",
       "\n",
       "                                   borrower_genders  \\\n",
       "1419602                                         NaN   \n",
       "1419603                                      female   \n",
       "1419604  female, female, female, male, male, female   \n",
       "1419605                                      female   \n",
       "1419606                                      female   \n",
       "\n",
       "                          borrower_pictured repayment_interval  \\\n",
       "1419602                                 NaN            monthly   \n",
       "1419603                                true          irregular   \n",
       "1419604  true, true, true, true, true, true          irregular   \n",
       "1419605                                true          irregular   \n",
       "1419606                                true            monthly   \n",
       "\n",
       "        distribution_model  \n",
       "1419602      field_partner  \n",
       "1419603      field_partner  \n",
       "1419604      field_partner  \n",
       "1419605      field_partner  \n",
       "1419606      field_partner  \n",
       "\n",
       "[5 rows x 31 columns]"
      ]
     },
     "metadata": {},
     "output_type": "display_data"
    },
    {
     "data": {
      "text/plain": [
       "['loan_id',\n",
       " 'loan_name',\n",
       " 'original_language',\n",
       " 'description',\n",
       " 'description_translated',\n",
       " 'funded_amount',\n",
       " 'loan_amount',\n",
       " 'status',\n",
       " 'activity_name',\n",
       " 'sector_name',\n",
       " 'loan_use',\n",
       " 'country_code',\n",
       " 'country_name',\n",
       " 'town_name',\n",
       " 'currency_policy',\n",
       " 'currency_exchange_coverage_rate',\n",
       " 'currency',\n",
       " 'partner_id',\n",
       " 'posted_time',\n",
       " 'planned_expiration_time',\n",
       " 'disburse_time',\n",
       " 'raised_time',\n",
       " 'lender_term',\n",
       " 'num_lenders_total',\n",
       " 'num_journal_entries',\n",
       " 'num_bulk_entries',\n",
       " 'tags',\n",
       " 'borrower_genders',\n",
       " 'borrower_pictured',\n",
       " 'repayment_interval',\n",
       " 'distribution_model']"
      ]
     },
     "metadata": {},
     "output_type": "display_data"
    }
   ],
   "source": [
    "loans=pd.read_csv(\"C:\\\\Users\\\\Alessio\\\\Desktop\\\\Universita\\\\Magistrale\\\\Primo anno\\\\Foundations of computer science\\\\Progetto\\\\additional-kiva-snapshot\\\\loans.csv\")\n",
    "display(loans.head(),loans.tail(),list(loans.columns))"
   ]
  },
  {
   "cell_type": "markdown",
   "metadata": {},
   "source": [
    "1) Normalize the loan_lenders table. In the normalized table, each row must have one loan_id and one lender."
   ]
  },
  {
   "cell_type": "code",
   "execution_count": 4,
   "metadata": {},
   "outputs": [
    {
     "data": {
      "text/html": [
       "<div>\n",
       "<style scoped>\n",
       "    .dataframe tbody tr th:only-of-type {\n",
       "        vertical-align: middle;\n",
       "    }\n",
       "\n",
       "    .dataframe tbody tr th {\n",
       "        vertical-align: top;\n",
       "    }\n",
       "\n",
       "    .dataframe thead th {\n",
       "        text-align: right;\n",
       "    }\n",
       "</style>\n",
       "<table border=\"1\" class=\"dataframe\">\n",
       "  <thead>\n",
       "    <tr style=\"text-align: right;\">\n",
       "      <th></th>\n",
       "      <th>loan_id</th>\n",
       "      <th>lenders</th>\n",
       "    </tr>\n",
       "  </thead>\n",
       "  <tbody>\n",
       "    <tr>\n",
       "      <td>0</td>\n",
       "      <td>483693</td>\n",
       "      <td>muc888</td>\n",
       "    </tr>\n",
       "    <tr>\n",
       "      <td>1</td>\n",
       "      <td>483693</td>\n",
       "      <td>sam4326</td>\n",
       "    </tr>\n",
       "    <tr>\n",
       "      <td>2</td>\n",
       "      <td>483693</td>\n",
       "      <td>camaran3922</td>\n",
       "    </tr>\n",
       "    <tr>\n",
       "      <td>3</td>\n",
       "      <td>483693</td>\n",
       "      <td>lachheb1865</td>\n",
       "    </tr>\n",
       "    <tr>\n",
       "      <td>4</td>\n",
       "      <td>483693</td>\n",
       "      <td>rebecca3499</td>\n",
       "    </tr>\n",
       "    <tr>\n",
       "      <td>...</td>\n",
       "      <td>...</td>\n",
       "      <td>...</td>\n",
       "    </tr>\n",
       "    <tr>\n",
       "      <td>28293926</td>\n",
       "      <td>1206425</td>\n",
       "      <td>trogdorfamily7622</td>\n",
       "    </tr>\n",
       "    <tr>\n",
       "      <td>28293927</td>\n",
       "      <td>1206425</td>\n",
       "      <td>danny6470</td>\n",
       "    </tr>\n",
       "    <tr>\n",
       "      <td>28293928</td>\n",
       "      <td>1206425</td>\n",
       "      <td>don6118</td>\n",
       "    </tr>\n",
       "    <tr>\n",
       "      <td>28293929</td>\n",
       "      <td>1206486</td>\n",
       "      <td>alan5175</td>\n",
       "    </tr>\n",
       "    <tr>\n",
       "      <td>28293930</td>\n",
       "      <td>1206486</td>\n",
       "      <td>amy38101311</td>\n",
       "    </tr>\n",
       "  </tbody>\n",
       "</table>\n",
       "<p>28293931 rows × 2 columns</p>\n",
       "</div>"
      ],
      "text/plain": [
       "          loan_id            lenders\n",
       "0          483693             muc888\n",
       "1          483693            sam4326\n",
       "2          483693        camaran3922\n",
       "3          483693        lachheb1865\n",
       "4          483693        rebecca3499\n",
       "...           ...                ...\n",
       "28293926  1206425  trogdorfamily7622\n",
       "28293927  1206425          danny6470\n",
       "28293928  1206425            don6118\n",
       "28293929  1206486           alan5175\n",
       "28293930  1206486        amy38101311\n",
       "\n",
       "[28293931 rows x 2 columns]"
      ]
     },
     "metadata": {},
     "output_type": "display_data"
    }
   ],
   "source": [
    "loans_lenders_normalized=loans_lenders.set_index(\"loan_id\").apply(lambda x: x.str.split(', ').explode()).reset_index()\n",
    "display(loans_lenders_normalized)"
   ]
  },
  {
   "cell_type": "markdown",
   "metadata": {},
   "source": [
    "2) For each loan, add a column duration corresponding to the number of days between the disburse time and the planned expiration time. If any of those two dates is missing, also the duration must be missing."
   ]
  },
  {
   "cell_type": "code",
   "execution_count": 5,
   "metadata": {},
   "outputs": [
    {
     "data": {
      "text/html": [
       "<div>\n",
       "<style scoped>\n",
       "    .dataframe tbody tr th:only-of-type {\n",
       "        vertical-align: middle;\n",
       "    }\n",
       "\n",
       "    .dataframe tbody tr th {\n",
       "        vertical-align: top;\n",
       "    }\n",
       "\n",
       "    .dataframe thead th {\n",
       "        text-align: right;\n",
       "    }\n",
       "</style>\n",
       "<table border=\"1\" class=\"dataframe\">\n",
       "  <thead>\n",
       "    <tr style=\"text-align: right;\">\n",
       "      <th></th>\n",
       "      <th>loan_id</th>\n",
       "      <th>planned_expiration_time</th>\n",
       "      <th>disburse_time</th>\n",
       "    </tr>\n",
       "  </thead>\n",
       "  <tbody>\n",
       "    <tr>\n",
       "      <td>0</td>\n",
       "      <td>657307</td>\n",
       "      <td>2014-02-14 03:30:06.000 +0000</td>\n",
       "      <td>2013-12-22 08:00:00.000 +0000</td>\n",
       "    </tr>\n",
       "    <tr>\n",
       "      <td>1</td>\n",
       "      <td>657259</td>\n",
       "      <td>2014-03-26 22:25:07.000 +0000</td>\n",
       "      <td>2013-12-20 08:00:00.000 +0000</td>\n",
       "    </tr>\n",
       "    <tr>\n",
       "      <td>2</td>\n",
       "      <td>658010</td>\n",
       "      <td>2014-02-15 21:10:05.000 +0000</td>\n",
       "      <td>2014-01-09 08:00:00.000 +0000</td>\n",
       "    </tr>\n",
       "    <tr>\n",
       "      <td>3</td>\n",
       "      <td>659347</td>\n",
       "      <td>2014-02-21 03:10:02.000 +0000</td>\n",
       "      <td>2014-01-17 08:00:00.000 +0000</td>\n",
       "    </tr>\n",
       "    <tr>\n",
       "      <td>4</td>\n",
       "      <td>656933</td>\n",
       "      <td>2014-02-13 06:10:02.000 +0000</td>\n",
       "      <td>2013-12-17 08:00:00.000 +0000</td>\n",
       "    </tr>\n",
       "    <tr>\n",
       "      <td>...</td>\n",
       "      <td>...</td>\n",
       "      <td>...</td>\n",
       "      <td>...</td>\n",
       "    </tr>\n",
       "    <tr>\n",
       "      <td>1419602</td>\n",
       "      <td>988180</td>\n",
       "      <td>2016-01-02 01:00:03.000 +0000</td>\n",
       "      <td>2015-11-23 08:00:00.000 +0000</td>\n",
       "    </tr>\n",
       "    <tr>\n",
       "      <td>1419603</td>\n",
       "      <td>988213</td>\n",
       "      <td>2016-01-02 16:40:07.000 +0000</td>\n",
       "      <td>2015-11-24 08:00:00.000 +0000</td>\n",
       "    </tr>\n",
       "    <tr>\n",
       "      <td>1419604</td>\n",
       "      <td>989109</td>\n",
       "      <td>2016-01-03 22:20:04.000 +0000</td>\n",
       "      <td>2015-11-13 08:00:00.000 +0000</td>\n",
       "    </tr>\n",
       "    <tr>\n",
       "      <td>1419605</td>\n",
       "      <td>989143</td>\n",
       "      <td>2016-01-05 08:50:02.000 +0000</td>\n",
       "      <td>2015-11-03 08:00:00.000 +0000</td>\n",
       "    </tr>\n",
       "    <tr>\n",
       "      <td>1419606</td>\n",
       "      <td>989240</td>\n",
       "      <td>2016-01-03 20:50:06.000 +0000</td>\n",
       "      <td>2015-11-03 08:00:00.000 +0000</td>\n",
       "    </tr>\n",
       "  </tbody>\n",
       "</table>\n",
       "<p>1419607 rows × 3 columns</p>\n",
       "</div>"
      ],
      "text/plain": [
       "         loan_id        planned_expiration_time                  disburse_time\n",
       "0         657307  2014-02-14 03:30:06.000 +0000  2013-12-22 08:00:00.000 +0000\n",
       "1         657259  2014-03-26 22:25:07.000 +0000  2013-12-20 08:00:00.000 +0000\n",
       "2         658010  2014-02-15 21:10:05.000 +0000  2014-01-09 08:00:00.000 +0000\n",
       "3         659347  2014-02-21 03:10:02.000 +0000  2014-01-17 08:00:00.000 +0000\n",
       "4         656933  2014-02-13 06:10:02.000 +0000  2013-12-17 08:00:00.000 +0000\n",
       "...          ...                            ...                            ...\n",
       "1419602   988180  2016-01-02 01:00:03.000 +0000  2015-11-23 08:00:00.000 +0000\n",
       "1419603   988213  2016-01-02 16:40:07.000 +0000  2015-11-24 08:00:00.000 +0000\n",
       "1419604   989109  2016-01-03 22:20:04.000 +0000  2015-11-13 08:00:00.000 +0000\n",
       "1419605   989143  2016-01-05 08:50:02.000 +0000  2015-11-03 08:00:00.000 +0000\n",
       "1419606   989240  2016-01-03 20:50:06.000 +0000  2015-11-03 08:00:00.000 +0000\n",
       "\n",
       "[1419607 rows x 3 columns]"
      ]
     },
     "metadata": {},
     "output_type": "display_data"
    }
   ],
   "source": [
    "#andiamo a osservare le variabili che serviranno\n",
    "duration=loans.iloc[: , [0,19,20]]\n",
    "display(duration)"
   ]
  },
  {
   "cell_type": "code",
   "execution_count": 6,
   "metadata": {},
   "outputs": [],
   "source": [
    "import datetime\n",
    "import time"
   ]
  },
  {
   "cell_type": "code",
   "execution_count": 7,
   "metadata": {},
   "outputs": [
    {
     "name": "stderr",
     "output_type": "stream",
     "text": [
      "C:\\Users\\Alessio\\Anaconda3\\lib\\site-packages\\ipykernel_launcher.py:1: SettingWithCopyWarning: \n",
      "A value is trying to be set on a copy of a slice from a DataFrame.\n",
      "Try using .loc[row_indexer,col_indexer] = value instead\n",
      "\n",
      "See the caveats in the documentation: http://pandas.pydata.org/pandas-docs/stable/user_guide/indexing.html#returning-a-view-versus-a-copy\n",
      "  \"\"\"Entry point for launching an IPython kernel.\n",
      "C:\\Users\\Alessio\\Anaconda3\\lib\\site-packages\\ipykernel_launcher.py:2: SettingWithCopyWarning: \n",
      "A value is trying to be set on a copy of a slice from a DataFrame.\n",
      "Try using .loc[row_indexer,col_indexer] = value instead\n",
      "\n",
      "See the caveats in the documentation: http://pandas.pydata.org/pandas-docs/stable/user_guide/indexing.html#returning-a-view-versus-a-copy\n",
      "  \n"
     ]
    },
    {
     "data": {
      "text/html": [
       "<div>\n",
       "<style scoped>\n",
       "    .dataframe tbody tr th:only-of-type {\n",
       "        vertical-align: middle;\n",
       "    }\n",
       "\n",
       "    .dataframe tbody tr th {\n",
       "        vertical-align: top;\n",
       "    }\n",
       "\n",
       "    .dataframe thead th {\n",
       "        text-align: right;\n",
       "    }\n",
       "</style>\n",
       "<table border=\"1\" class=\"dataframe\">\n",
       "  <thead>\n",
       "    <tr style=\"text-align: right;\">\n",
       "      <th></th>\n",
       "      <th>loan_id</th>\n",
       "      <th>planned_expiration_time</th>\n",
       "      <th>disburse_time</th>\n",
       "      <th>loans_duration</th>\n",
       "    </tr>\n",
       "  </thead>\n",
       "  <tbody>\n",
       "    <tr>\n",
       "      <td>0</td>\n",
       "      <td>657307</td>\n",
       "      <td>2014-02-14 03:30:06+00:00</td>\n",
       "      <td>2013-12-22 08:00:00+00:00</td>\n",
       "      <td>53.0</td>\n",
       "    </tr>\n",
       "    <tr>\n",
       "      <td>1</td>\n",
       "      <td>657259</td>\n",
       "      <td>2014-03-26 22:25:07+00:00</td>\n",
       "      <td>2013-12-20 08:00:00+00:00</td>\n",
       "      <td>96.0</td>\n",
       "    </tr>\n",
       "    <tr>\n",
       "      <td>2</td>\n",
       "      <td>658010</td>\n",
       "      <td>2014-02-15 21:10:05+00:00</td>\n",
       "      <td>2014-01-09 08:00:00+00:00</td>\n",
       "      <td>37.0</td>\n",
       "    </tr>\n",
       "    <tr>\n",
       "      <td>3</td>\n",
       "      <td>659347</td>\n",
       "      <td>2014-02-21 03:10:02+00:00</td>\n",
       "      <td>2014-01-17 08:00:00+00:00</td>\n",
       "      <td>34.0</td>\n",
       "    </tr>\n",
       "    <tr>\n",
       "      <td>4</td>\n",
       "      <td>656933</td>\n",
       "      <td>2014-02-13 06:10:02+00:00</td>\n",
       "      <td>2013-12-17 08:00:00+00:00</td>\n",
       "      <td>57.0</td>\n",
       "    </tr>\n",
       "    <tr>\n",
       "      <td>...</td>\n",
       "      <td>...</td>\n",
       "      <td>...</td>\n",
       "      <td>...</td>\n",
       "      <td>...</td>\n",
       "    </tr>\n",
       "    <tr>\n",
       "      <td>1419602</td>\n",
       "      <td>988180</td>\n",
       "      <td>2016-01-02 01:00:03+00:00</td>\n",
       "      <td>2015-11-23 08:00:00+00:00</td>\n",
       "      <td>39.0</td>\n",
       "    </tr>\n",
       "    <tr>\n",
       "      <td>1419603</td>\n",
       "      <td>988213</td>\n",
       "      <td>2016-01-02 16:40:07+00:00</td>\n",
       "      <td>2015-11-24 08:00:00+00:00</td>\n",
       "      <td>39.0</td>\n",
       "    </tr>\n",
       "    <tr>\n",
       "      <td>1419604</td>\n",
       "      <td>989109</td>\n",
       "      <td>2016-01-03 22:20:04+00:00</td>\n",
       "      <td>2015-11-13 08:00:00+00:00</td>\n",
       "      <td>51.0</td>\n",
       "    </tr>\n",
       "    <tr>\n",
       "      <td>1419605</td>\n",
       "      <td>989143</td>\n",
       "      <td>2016-01-05 08:50:02+00:00</td>\n",
       "      <td>2015-11-03 08:00:00+00:00</td>\n",
       "      <td>63.0</td>\n",
       "    </tr>\n",
       "    <tr>\n",
       "      <td>1419606</td>\n",
       "      <td>989240</td>\n",
       "      <td>2016-01-03 20:50:06+00:00</td>\n",
       "      <td>2015-11-03 08:00:00+00:00</td>\n",
       "      <td>61.0</td>\n",
       "    </tr>\n",
       "  </tbody>\n",
       "</table>\n",
       "<p>1419607 rows × 4 columns</p>\n",
       "</div>"
      ],
      "text/plain": [
       "         loan_id   planned_expiration_time             disburse_time  \\\n",
       "0         657307 2014-02-14 03:30:06+00:00 2013-12-22 08:00:00+00:00   \n",
       "1         657259 2014-03-26 22:25:07+00:00 2013-12-20 08:00:00+00:00   \n",
       "2         658010 2014-02-15 21:10:05+00:00 2014-01-09 08:00:00+00:00   \n",
       "3         659347 2014-02-21 03:10:02+00:00 2014-01-17 08:00:00+00:00   \n",
       "4         656933 2014-02-13 06:10:02+00:00 2013-12-17 08:00:00+00:00   \n",
       "...          ...                       ...                       ...   \n",
       "1419602   988180 2016-01-02 01:00:03+00:00 2015-11-23 08:00:00+00:00   \n",
       "1419603   988213 2016-01-02 16:40:07+00:00 2015-11-24 08:00:00+00:00   \n",
       "1419604   989109 2016-01-03 22:20:04+00:00 2015-11-13 08:00:00+00:00   \n",
       "1419605   989143 2016-01-05 08:50:02+00:00 2015-11-03 08:00:00+00:00   \n",
       "1419606   989240 2016-01-03 20:50:06+00:00 2015-11-03 08:00:00+00:00   \n",
       "\n",
       "         loans_duration  \n",
       "0                  53.0  \n",
       "1                  96.0  \n",
       "2                  37.0  \n",
       "3                  34.0  \n",
       "4                  57.0  \n",
       "...                 ...  \n",
       "1419602            39.0  \n",
       "1419603            39.0  \n",
       "1419604            51.0  \n",
       "1419605            63.0  \n",
       "1419606            61.0  \n",
       "\n",
       "[1419607 rows x 4 columns]"
      ]
     },
     "metadata": {},
     "output_type": "display_data"
    }
   ],
   "source": [
    "duration[\"planned_expiration_time\"] = pd.to_datetime(duration[\"planned_expiration_time\"])\n",
    "duration[\"disburse_time\"] = pd.to_datetime(duration[\"disburse_time\"])\n",
    "duration.insert(3, \"loans_duration\", (duration.iloc[:, 1]-duration.iloc[:, 2]).astype('timedelta64[D]'), True)\n",
    "duration[\"loans_duration\"].apply(lambda i: int(i) if pd.notnull(i) else i)\n",
    "display(duration)"
   ]
  },
  {
   "cell_type": "code",
   "execution_count": 8,
   "metadata": {},
   "outputs": [
    {
     "data": {
      "text/html": [
       "<div>\n",
       "<style scoped>\n",
       "    .dataframe tbody tr th:only-of-type {\n",
       "        vertical-align: middle;\n",
       "    }\n",
       "\n",
       "    .dataframe tbody tr th {\n",
       "        vertical-align: top;\n",
       "    }\n",
       "\n",
       "    .dataframe thead th {\n",
       "        text-align: right;\n",
       "    }\n",
       "</style>\n",
       "<table border=\"1\" class=\"dataframe\">\n",
       "  <thead>\n",
       "    <tr style=\"text-align: right;\">\n",
       "      <th></th>\n",
       "      <th>loan_id</th>\n",
       "      <th>lenders</th>\n",
       "      <th>loans_duration</th>\n",
       "    </tr>\n",
       "  </thead>\n",
       "  <tbody>\n",
       "    <tr>\n",
       "      <td>0</td>\n",
       "      <td>483693</td>\n",
       "      <td>muc888</td>\n",
       "      <td>57.0</td>\n",
       "    </tr>\n",
       "    <tr>\n",
       "      <td>1</td>\n",
       "      <td>483693</td>\n",
       "      <td>sam4326</td>\n",
       "      <td>57.0</td>\n",
       "    </tr>\n",
       "    <tr>\n",
       "      <td>2</td>\n",
       "      <td>483693</td>\n",
       "      <td>camaran3922</td>\n",
       "      <td>57.0</td>\n",
       "    </tr>\n",
       "    <tr>\n",
       "      <td>3</td>\n",
       "      <td>483693</td>\n",
       "      <td>lachheb1865</td>\n",
       "      <td>57.0</td>\n",
       "    </tr>\n",
       "    <tr>\n",
       "      <td>4</td>\n",
       "      <td>483693</td>\n",
       "      <td>rebecca3499</td>\n",
       "      <td>57.0</td>\n",
       "    </tr>\n",
       "    <tr>\n",
       "      <td>...</td>\n",
       "      <td>...</td>\n",
       "      <td>...</td>\n",
       "      <td>...</td>\n",
       "    </tr>\n",
       "    <tr>\n",
       "      <td>28293926</td>\n",
       "      <td>1206425</td>\n",
       "      <td>trogdorfamily7622</td>\n",
       "      <td>44.0</td>\n",
       "    </tr>\n",
       "    <tr>\n",
       "      <td>28293927</td>\n",
       "      <td>1206425</td>\n",
       "      <td>danny6470</td>\n",
       "      <td>44.0</td>\n",
       "    </tr>\n",
       "    <tr>\n",
       "      <td>28293928</td>\n",
       "      <td>1206425</td>\n",
       "      <td>don6118</td>\n",
       "      <td>44.0</td>\n",
       "    </tr>\n",
       "    <tr>\n",
       "      <td>28293929</td>\n",
       "      <td>1206486</td>\n",
       "      <td>alan5175</td>\n",
       "      <td>64.0</td>\n",
       "    </tr>\n",
       "    <tr>\n",
       "      <td>28293930</td>\n",
       "      <td>1206486</td>\n",
       "      <td>amy38101311</td>\n",
       "      <td>64.0</td>\n",
       "    </tr>\n",
       "  </tbody>\n",
       "</table>\n",
       "<p>28293912 rows × 3 columns</p>\n",
       "</div>"
      ],
      "text/plain": [
       "          loan_id            lenders  loans_duration\n",
       "0          483693             muc888            57.0\n",
       "1          483693            sam4326            57.0\n",
       "2          483693        camaran3922            57.0\n",
       "3          483693        lachheb1865            57.0\n",
       "4          483693        rebecca3499            57.0\n",
       "...           ...                ...             ...\n",
       "28293926  1206425  trogdorfamily7622            44.0\n",
       "28293927  1206425          danny6470            44.0\n",
       "28293928  1206425            don6118            44.0\n",
       "28293929  1206486           alan5175            64.0\n",
       "28293930  1206486        amy38101311            64.0\n",
       "\n",
       "[28293912 rows x 3 columns]"
      ]
     },
     "metadata": {},
     "output_type": "display_data"
    }
   ],
   "source": [
    "loans_lender_ND = pd.merge(loans_lenders_normalized, duration.iloc[:, [0, 3]], on=\"loan_id\", right_index=True)\n",
    "display(loans_lender_ND)"
   ]
  },
  {
   "cell_type": "markdown",
   "metadata": {},
   "source": [
    "3) Find the lenders that have funded at least twice."
   ]
  },
  {
   "cell_type": "code",
   "execution_count": 9,
   "metadata": {
    "scrolled": false
   },
   "outputs": [
    {
     "data": {
      "text/plain": [
       "gooddogg1                  177645\n",
       "trolltech4460              150762\n",
       "gmct                       128159\n",
       "nms                        104314\n",
       "themissionbeltco            81434\n",
       "                            ...  \n",
       "victoria4261                    2\n",
       "kevin66066467                   2\n",
       "jacksonvillejuniors5159         2\n",
       "rosa2532                        2\n",
       "kelly5191                       2\n",
       "Name: lenders, Length: 901811, dtype: int64"
      ]
     },
     "execution_count": 9,
     "metadata": {},
     "output_type": "execute_result"
    }
   ],
   "source": [
    "loans_lenders_normalized['lenders'].value_counts()[loans_lenders_normalized['lenders'].value_counts()>1]"
   ]
  },
  {
   "cell_type": "markdown",
   "metadata": {},
   "source": [
    "4) For each country, compute how many loans have involved that country as borrowers."
   ]
  },
  {
   "cell_type": "code",
   "execution_count": 10,
   "metadata": {},
   "outputs": [
    {
     "data": {
      "text/plain": [
       "country_name\n",
       "Philippines         285336\n",
       "Kenya               143699\n",
       "Peru                 86000\n",
       "Cambodia             79701\n",
       "El Salvador          64037\n",
       "                     ...  \n",
       "Canada                   1\n",
       "Botswana                 1\n",
       "Uruguay                  1\n",
       "Papua New Guinea         1\n",
       "Mauritania               1\n",
       "Length: 96, dtype: int64"
      ]
     },
     "execution_count": 10,
     "metadata": {},
     "output_type": "execute_result"
    }
   ],
   "source": [
    "loans.groupby(\"country_name\").size().sort_values(ascending=False)"
   ]
  },
  {
   "cell_type": "markdown",
   "metadata": {},
   "source": [
    "5) For each country, compute the overall amount of money borrowed."
   ]
  },
  {
   "cell_type": "code",
   "execution_count": 11,
   "metadata": {},
   "outputs": [
    {
     "data": {
      "text/plain": [
       "country_name\n",
       "Philippines       97984600.0\n",
       "Peru              79437775.0\n",
       "Kenya             66735975.0\n",
       "Paraguay          53964700.0\n",
       "Cambodia          51613525.0\n",
       "                     ...    \n",
       "Virgin Islands       10000.0\n",
       "Vanuatu               9250.0\n",
       "Botswana              8000.0\n",
       "Uruguay               8000.0\n",
       "Gaza                  5000.0\n",
       "Name: loan_amount, Length: 96, dtype: float64"
      ]
     },
     "metadata": {},
     "output_type": "display_data"
    }
   ],
   "source": [
    "country_loan=loans.groupby(\"country_name\").sum()[\"loan_amount\"].sort_values(ascending=False)\n",
    "display(country_loan)"
   ]
  },
  {
   "cell_type": "markdown",
   "metadata": {},
   "source": [
    "6) Like the previous point, but expressed as a percentage of the overall amount lent."
   ]
  },
  {
   "cell_type": "code",
   "execution_count": 12,
   "metadata": {},
   "outputs": [
    {
     "data": {
      "text/plain": [
       "country_name\n",
       "Philippines       8.293678\n",
       "Peru              6.723825\n",
       "Kenya             5.648711\n",
       "Paraguay          4.567716\n",
       "Cambodia          4.368706\n",
       "                    ...   \n",
       "Virgin Islands    0.000846\n",
       "Vanuatu           0.000783\n",
       "Botswana          0.000677\n",
       "Uruguay           0.000677\n",
       "Gaza              0.000423\n",
       "Name: loan_amount, Length: 96, dtype: float64"
      ]
     },
     "metadata": {},
     "output_type": "display_data"
    }
   ],
   "source": [
    "total_loan_amount=loans[\"loan_amount\"].sum()\n",
    "display((country_loan/total_loan_amount)*100)"
   ]
  },
  {
   "cell_type": "markdown",
   "metadata": {},
   "source": [
    "7) Like the three previous points, but split for each year (with respect to disburse time)."
   ]
  },
  {
   "cell_type": "code",
   "execution_count": 13,
   "metadata": {},
   "outputs": [
    {
     "data": {
      "text/plain": [
       "country_name  year_disburse\n",
       "Afghanistan   2007.0            408\n",
       "              2008.0            370\n",
       "              2009.0            678\n",
       "              2010.0            632\n",
       "              2011.0            247\n",
       "                               ... \n",
       "Zimbabwe      2013.0            426\n",
       "              2014.0           2078\n",
       "              2015.0            600\n",
       "              2016.0            808\n",
       "              2017.0           1079\n",
       "Length: 748, dtype: int64"
      ]
     },
     "execution_count": 13,
     "metadata": {},
     "output_type": "execute_result"
    }
   ],
   "source": [
    "loans[\"year_disburse\"]=pd.to_datetime(loans[\"disburse_time\"]).dt.year\n",
    "#punto 4\n",
    "loans.groupby([\"country_name\",\"year_disburse\"]).size()"
   ]
  },
  {
   "cell_type": "code",
   "execution_count": 14,
   "metadata": {},
   "outputs": [
    {
     "data": {
      "text/plain": [
       "country_name  year_disburse\n",
       "Afghanistan   2007.0            194975.0\n",
       "              2008.0            365375.0\n",
       "              2009.0            585125.0\n",
       "              2010.0            563350.0\n",
       "              2011.0            245125.0\n",
       "                                 ...    \n",
       "Zimbabwe      2013.0            678525.0\n",
       "              2014.0           1311575.0\n",
       "              2015.0            723625.0\n",
       "              2016.0            788600.0\n",
       "              2017.0           1237600.0\n",
       "Name: loan_amount, Length: 748, dtype: float64"
      ]
     },
     "metadata": {},
     "output_type": "display_data"
    }
   ],
   "source": [
    "#punto 5\n",
    "country_loan_year=loans.groupby([\"country_name\",\"year_disburse\"]).sum()[\"loan_amount\"]\n",
    "display(country_loan_year)"
   ]
  },
  {
   "cell_type": "code",
   "execution_count": 15,
   "metadata": {},
   "outputs": [
    {
     "data": {
      "text/plain": [
       "country_name  year_disburse\n",
       "Afghanistan   2007.0            9.907518\n",
       "              2008.0           18.566275\n",
       "              2009.0           29.732717\n",
       "              2010.0           28.626235\n",
       "              2011.0           12.455855\n",
       "                                 ...    \n",
       "Zimbabwe      2013.0           11.595002\n",
       "              2014.0           22.412902\n",
       "              2015.0           12.365695\n",
       "              2016.0           13.476023\n",
       "              2017.0           21.148777\n",
       "Name: loan_amount, Length: 748, dtype: float64"
      ]
     },
     "metadata": {},
     "output_type": "display_data"
    }
   ],
   "source": [
    "#punto 6\n",
    "display((country_loan_year/country_loan)*100)"
   ]
  },
  {
   "cell_type": "markdown",
   "metadata": {},
   "source": [
    "8) For each lender, compute the overall amount of money lent. For each loan that has more than one lender, you must assume that all lenders contributed the same amount."
   ]
  },
  {
   "cell_type": "code",
   "execution_count": 16,
   "metadata": {},
   "outputs": [
    {
     "data": {
      "text/plain": [
       "lenders\n",
       "000                1563.881085\n",
       "00000              1249.947363\n",
       "0002               2201.180463\n",
       "00mike00             38.461538\n",
       "0101craign0101     2424.088932\n",
       "                      ...     \n",
       "zzmcfate          60150.832762\n",
       "zzpaghetti9994       44.247788\n",
       "zzrvmf8538          551.829575\n",
       "zzzsai              236.888048\n",
       "zzzworld             26.315789\n",
       "Name: loan_single_lenders, Length: 1383799, dtype: float64"
      ]
     },
     "execution_count": 16,
     "metadata": {},
     "output_type": "execute_result"
    }
   ],
   "source": [
    "loans[\"loan_single_lenders\"]=loans[\"loan_amount\"]/loans[\"num_lenders_total\"]\n",
    "loans_single_lenders = pd.merge(loans_lenders_normalized, loans[[\"loan_id\",\"loan_single_lenders\"]], on=\"loan_id\", right_index=True)\n",
    "loans_single_lenders.groupby(\"lenders\").sum()[\"loan_single_lenders\"]"
   ]
  },
  {
   "cell_type": "markdown",
   "metadata": {},
   "source": [
    "9) For each country, compute the difference between the overall amount of money lent and the overall amount of money borrowed. Since the country of the lender is often unknown, you can assume that the true distribution among the countries is the same as the one computed from the rows where the country is known."
   ]
  },
  {
   "cell_type": "code",
   "execution_count": 17,
   "metadata": {},
   "outputs": [],
   "source": [
    "#importazione dataset lenders\n",
    "lenders=pd.read_csv(\"C:\\\\Users\\\\Alessio\\\\Desktop\\\\Universita\\\\Magistrale\\\\Primo anno\\\\Foundations of computer science\\\\Progetto\\\\additional-kiva-snapshot\\\\lenders.csv\")"
   ]
  },
  {
   "cell_type": "code",
   "execution_count": 18,
   "metadata": {},
   "outputs": [],
   "source": [
    "#imputazione Na proporzionale ai dati già presenti nel dataset\n",
    "proportion=lenders.groupby(\"country_code\").size()/lenders[\"country_code\"].notna().sum()\n",
    "lista=list(proportion.items())\n",
    "df=pd.DataFrame(lista, columns=[\"country_code\", \"proportion\"])\n",
    "lenders['country_code'] = lenders['country_code'].fillna(pd.Series(np.random.choice(df[\"country_code\"],p=df[\"proportion\"], size=len(lenders))))"
   ]
  },
  {
   "cell_type": "code",
   "execution_count": 19,
   "metadata": {},
   "outputs": [],
   "source": [
    "#ora che non ci sono più na si può procedere al calcolo del totale di money lent\n",
    "\n",
    "df_money_lent=pd.merge(loans_single_lenders, lenders[[\"permanent_name\",\"country_code\"]], left_on=\"lenders\", right_on=\"permanent_name\", left_index=True)"
   ]
  },
  {
   "cell_type": "code",
   "execution_count": 20,
   "metadata": {},
   "outputs": [],
   "source": [
    "lent=df_money_lent.groupby(\"country_code\").sum()[\"loan_single_lenders\"]\n",
    "borrowed=loans.groupby(\"country_code\").sum()[\"loan_amount\"]"
   ]
  },
  {
   "cell_type": "code",
   "execution_count": 21,
   "metadata": {},
   "outputs": [
    {
     "data": {
      "text/plain": [
       "country_code\n",
       "AF   -1.813409e+06\n",
       "AL   -4.278994e+06\n",
       "AM   -2.290846e+07\n",
       "AZ   -1.477072e+07\n",
       "BA   -4.057565e+05\n",
       "          ...     \n",
       "XK   -3.071469e+06\n",
       "YE   -3.295270e+06\n",
       "ZA   -3.746419e+05\n",
       "ZM   -1.939969e+06\n",
       "ZW   -5.839092e+06\n",
       "Length: 94, dtype: float64"
      ]
     },
     "metadata": {},
     "output_type": "display_data"
    }
   ],
   "source": [
    "difference=lent-borrowed\n",
    "display(difference.dropna()) #alcuni codici erano presenti solamente in uno dei due dataset, perciò sono stati scartati"
   ]
  },
  {
   "cell_type": "code",
   "execution_count": 22,
   "metadata": {},
   "outputs": [
    {
     "data": {
      "text/plain": [
       "country_code\n",
       "AD             NaN\n",
       "AE             NaN\n",
       "AF   -1.813409e+06\n",
       "AG             NaN\n",
       "AI             NaN\n",
       "          ...     \n",
       "GZ   -2.861150e+03\n",
       "HK             NaN\n",
       "HN   -1.195132e+07\n",
       "HR             NaN\n",
       "HT   -4.482571e+06\n",
       "Length: 92, dtype: float64"
      ]
     },
     "execution_count": 22,
     "metadata": {},
     "output_type": "execute_result"
    }
   ],
   "source": [
    "difference.head(92)"
   ]
  },
  {
   "cell_type": "markdown",
   "metadata": {},
   "source": [
    "10) Which country has the highest ratio between the difference computed at the previous point and the population?"
   ]
  },
  {
   "cell_type": "code",
   "execution_count": 23,
   "metadata": {},
   "outputs": [],
   "source": [
    "#importazione dataset country_stats\n",
    "country_stats=pd.read_csv(\"C:\\\\Users\\\\Alessio\\\\Desktop\\\\Universita\\\\Magistrale\\\\Primo anno\\\\Foundations of computer science\\\\Progetto\\\\additional-kiva-snapshot\\\\country_stats.csv\")"
   ]
  },
  {
   "cell_type": "code",
   "execution_count": 24,
   "metadata": {},
   "outputs": [],
   "source": [
    "population=country_stats.groupby(\"country_code\")[\"population\"].first() "
   ]
  },
  {
   "cell_type": "code",
   "execution_count": 25,
   "metadata": {},
   "outputs": [
    {
     "data": {
      "text/plain": [
       "country_code\n",
       "CA     2.351853\n",
       "US     1.832765\n",
       "UY     0.029054\n",
       "TH     0.009360\n",
       "BR     0.007857\n",
       "        ...    \n",
       "MN    -4.965134\n",
       "SV    -6.530014\n",
       "AM    -7.817385\n",
       "PY    -7.915558\n",
       "WS   -62.158003\n",
       "Length: 89, dtype: float64"
      ]
     },
     "execution_count": 25,
     "metadata": {},
     "output_type": "execute_result"
    }
   ],
   "source": [
    "ratio_pop=difference/population\n",
    "ratio_pop.dropna().sort_values(ascending=False)"
   ]
  },
  {
   "cell_type": "markdown",
   "metadata": {},
   "source": [
    "11) Which country has the highest ratio between the difference computed at point 9 and the population that is not below the poverty line?"
   ]
  },
  {
   "cell_type": "code",
   "execution_count": 26,
   "metadata": {},
   "outputs": [],
   "source": [
    "country_stats[\"rich_pop\"] = (country_stats[\"population\"]*(100-country_stats[\"population_below_poverty_line\"]))/100"
   ]
  },
  {
   "cell_type": "code",
   "execution_count": 27,
   "metadata": {},
   "outputs": [],
   "source": [
    "rich_population=country_stats.groupby(\"country_code\")[\"rich_pop\"].first()"
   ]
  },
  {
   "cell_type": "code",
   "execution_count": 28,
   "metadata": {},
   "outputs": [
    {
     "data": {
      "text/plain": [
       "country_code\n",
       "CA     2.595864\n",
       "US     2.158734\n",
       "UY     0.032174\n",
       "TH     0.010086\n",
       "BR     0.008159\n",
       "        ...    \n",
       "BO    -6.512360\n",
       "NI    -6.874768\n",
       "SV   -10.030743\n",
       "PY   -10.174240\n",
       "AM   -11.496155\n",
       "Length: 84, dtype: float64"
      ]
     },
     "execution_count": 28,
     "metadata": {},
     "output_type": "execute_result"
    }
   ],
   "source": [
    "ratio_rich_pop=difference/rich_population\n",
    "ratio_rich_pop.dropna().sort_values(ascending=False)"
   ]
  },
  {
   "cell_type": "markdown",
   "metadata": {},
   "source": [
    "12) For each year, compute the total amount of loans. Each loan that has planned expiration time and disburse time in different years must have its amount distributed proportionally to the number of days in each year. For example, a loan with disburse time December 1st, 2016, planned expiration time January 30th 2018, and amount 5000USD has an amount of 5000USD * 31 / (31+365+30) = 363.85 for 2016, 5000USD * 365 / (31+365+30) = 4284.04 for 2017, and 5000USD * 30 / (31+365+30) = 352.11 for 2018."
   ]
  },
  {
   "cell_type": "code",
   "execution_count": 29,
   "metadata": {},
   "outputs": [
    {
     "data": {
      "text/plain": [
       "disburse_time              0\n",
       "planned_expiration_time    0\n",
       "loan_amount                0\n",
       "loans_duration             0\n",
       "dtype: int64"
      ]
     },
     "execution_count": 29,
     "metadata": {},
     "output_type": "execute_result"
    }
   ],
   "source": [
    "duration=loans.loc[: , [\"disburse_time\",\"planned_expiration_time\",\"loan_amount\"]]\n",
    "duration[\"disburse_time\"] = pd.to_datetime(duration[\"disburse_time\"])\n",
    "duration[\"planned_expiration_time\"] = pd.to_datetime(duration[\"planned_expiration_time\"])\n",
    "duration.insert(3, \"loans_duration\", (duration.iloc[:, 1]-duration.iloc[:, 0]).astype('timedelta64[D]'), True)\n",
    "duration[\"loans_duration\"].apply(lambda i: int(i) if pd.notnull(i) else i)\n",
    "delete_row=(duration[duration.loc[:,\"loans_duration\"]<0]).index\n",
    "#siccome ci sono 14935 osservazioni che hanno planned_expiration antecedente a disburse_time queste verranno eliminate\n",
    "new_duration=duration.drop(delete_row) \n",
    "#gestione NA\n",
    "new_duration=new_duration.dropna(subset=[\"planned_expiration_time\",\"disburse_time\"])\n",
    "#display(new_duration)\n",
    "new_duration.isna().sum()"
   ]
  },
  {
   "cell_type": "code",
   "execution_count": 30,
   "metadata": {},
   "outputs": [],
   "source": [
    "new_duration[\"disburse_time\"]=pd.to_datetime(new_duration[\"disburse_time\"]).dt.date\n",
    "new_duration[\"planned_expiration_time\"]=pd.to_datetime(new_duration[\"planned_expiration_time\"]).dt.date\n",
    "new_duration[\"anno_dis\"]=pd.to_datetime(new_duration[\"disburse_time\"]).dt.year\n",
    "new_duration[\"anno_exp\"]=pd.to_datetime(new_duration[\"planned_expiration_time\"]).dt.year"
   ]
  },
  {
   "cell_type": "code",
   "execution_count": 31,
   "metadata": {},
   "outputs": [
    {
     "data": {
      "text/plain": [
       "0    2013\n",
       "1    2013\n",
       "2    2014\n",
       "3    2014\n",
       "4    2013\n",
       "Name: anno_dis, dtype: int64"
      ]
     },
     "execution_count": 31,
     "metadata": {},
     "output_type": "execute_result"
    }
   ],
   "source": [
    "new_duration[\"anno_dis\"].head()"
   ]
  },
  {
   "cell_type": "code",
   "execution_count": 36,
   "metadata": {},
   "outputs": [
    {
     "data": {
      "text/plain": [
       "{2012: 103911725.0,\n",
       " 2013: 98427750.0,\n",
       " 2014: 120644250.0,\n",
       " 2015: 131208475.0,\n",
       " 2016: 133271575.0,\n",
       " 2017: 144870625.0,\n",
       " 2018: 85300.0}"
      ]
     },
     "execution_count": 36,
     "metadata": {},
     "output_type": "execute_result"
    }
   ],
   "source": [
    "#casi anni uguali, in questo caso tutta la somma viene messa nell'anno di disburse time\n",
    "\n",
    "#CAPIRE COME SI COMPORTA IL TUTTO QUANDO HANNO STESSA IDENTICA DATA, SI DOVREBBE DIVIDERE PER 0!!!\n",
    "df1=new_duration[new_duration[\"anno_dis\"]==new_duration[\"anno_exp\"]]\n",
    "diz=df1.groupby('anno_dis')['loan_amount'].sum().to_dict()\n",
    "diz"
   ]
  },
  {
   "cell_type": "code",
   "execution_count": 32,
   "metadata": {},
   "outputs": [
    {
     "name": "stderr",
     "output_type": "stream",
     "text": [
      "C:\\Users\\Alessio\\Anaconda3\\lib\\site-packages\\ipykernel_launcher.py:3: SettingWithCopyWarning: \n",
      "A value is trying to be set on a copy of a slice from a DataFrame.\n",
      "Try using .loc[row_indexer,col_indexer] = value instead\n",
      "\n",
      "See the caveats in the documentation: http://pandas.pydata.org/pandas-docs/stable/user_guide/indexing.html#returning-a-view-versus-a-copy\n",
      "  This is separate from the ipykernel package so we can avoid doing imports until\n",
      "C:\\Users\\Alessio\\Anaconda3\\lib\\site-packages\\ipykernel_launcher.py:4: SettingWithCopyWarning: \n",
      "A value is trying to be set on a copy of a slice from a DataFrame.\n",
      "Try using .loc[row_indexer,col_indexer] = value instead\n",
      "\n",
      "See the caveats in the documentation: http://pandas.pydata.org/pandas-docs/stable/user_guide/indexing.html#returning-a-view-versus-a-copy\n",
      "  after removing the cwd from sys.path.\n",
      "C:\\Users\\Alessio\\Anaconda3\\lib\\site-packages\\ipykernel_launcher.py:5: SettingWithCopyWarning: \n",
      "A value is trying to be set on a copy of a slice from a DataFrame.\n",
      "Try using .loc[row_indexer,col_indexer] = value instead\n",
      "\n",
      "See the caveats in the documentation: http://pandas.pydata.org/pandas-docs/stable/user_guide/indexing.html#returning-a-view-versus-a-copy\n",
      "  \"\"\"\n",
      "C:\\Users\\Alessio\\Anaconda3\\lib\\site-packages\\ipykernel_launcher.py:6: SettingWithCopyWarning: \n",
      "A value is trying to be set on a copy of a slice from a DataFrame.\n",
      "Try using .loc[row_indexer,col_indexer] = value instead\n",
      "\n",
      "See the caveats in the documentation: http://pandas.pydata.org/pandas-docs/stable/user_guide/indexing.html#returning-a-view-versus-a-copy\n",
      "  \n",
      "C:\\Users\\Alessio\\Anaconda3\\lib\\site-packages\\ipykernel_launcher.py:7: SettingWithCopyWarning: \n",
      "A value is trying to be set on a copy of a slice from a DataFrame.\n",
      "Try using .loc[row_indexer,col_indexer] = value instead\n",
      "\n",
      "See the caveats in the documentation: http://pandas.pydata.org/pandas-docs/stable/user_guide/indexing.html#returning-a-view-versus-a-copy\n",
      "  import sys\n",
      "C:\\Users\\Alessio\\Anaconda3\\lib\\site-packages\\ipykernel_launcher.py:8: SettingWithCopyWarning: \n",
      "A value is trying to be set on a copy of a slice from a DataFrame.\n",
      "Try using .loc[row_indexer,col_indexer] = value instead\n",
      "\n",
      "See the caveats in the documentation: http://pandas.pydata.org/pandas-docs/stable/user_guide/indexing.html#returning-a-view-versus-a-copy\n",
      "  \n",
      "C:\\Users\\Alessio\\Anaconda3\\lib\\site-packages\\ipykernel_launcher.py:9: SettingWithCopyWarning: \n",
      "A value is trying to be set on a copy of a slice from a DataFrame.\n",
      "Try using .loc[row_indexer,col_indexer] = value instead\n",
      "\n",
      "See the caveats in the documentation: http://pandas.pydata.org/pandas-docs/stable/user_guide/indexing.html#returning-a-view-versus-a-copy\n",
      "  if __name__ == '__main__':\n",
      "C:\\Users\\Alessio\\Anaconda3\\lib\\site-packages\\ipykernel_launcher.py:10: SettingWithCopyWarning: \n",
      "A value is trying to be set on a copy of a slice from a DataFrame.\n",
      "Try using .loc[row_indexer,col_indexer] = value instead\n",
      "\n",
      "See the caveats in the documentation: http://pandas.pydata.org/pandas-docs/stable/user_guide/indexing.html#returning-a-view-versus-a-copy\n",
      "  # Remove the CWD from sys.path while we load stuff.\n",
      "C:\\Users\\Alessio\\Anaconda3\\lib\\site-packages\\ipykernel_launcher.py:11: SettingWithCopyWarning: \n",
      "A value is trying to be set on a copy of a slice from a DataFrame.\n",
      "Try using .loc[row_indexer,col_indexer] = value instead\n",
      "\n",
      "See the caveats in the documentation: http://pandas.pydata.org/pandas-docs/stable/user_guide/indexing.html#returning-a-view-versus-a-copy\n",
      "  # This is added back by InteractiveShellApp.init_path()\n",
      "C:\\Users\\Alessio\\Anaconda3\\lib\\site-packages\\ipykernel_launcher.py:12: SettingWithCopyWarning: \n",
      "A value is trying to be set on a copy of a slice from a DataFrame.\n",
      "Try using .loc[row_indexer,col_indexer] = value instead\n",
      "\n",
      "See the caveats in the documentation: http://pandas.pydata.org/pandas-docs/stable/user_guide/indexing.html#returning-a-view-versus-a-copy\n",
      "  if sys.path[0] == '':\n"
     ]
    },
    {
     "data": {
      "text/plain": [
       "{2011: 631465.3516900627,\n",
       " 2012: 7131822.240651376,\n",
       " 2013: 17582308.36385827,\n",
       " 2014: 15403574.395862252,\n",
       " 2015: 10223536.526599012,\n",
       " 2016: 11033621.099766701,\n",
       " 2017: 9105319.338180225}"
      ]
     },
     "metadata": {},
     "output_type": "display_data"
    },
    {
     "data": {
      "text/plain": [
       "{2012: 1969420.2078953043,\n",
       " 2013: 7206345.589864023,\n",
       " 2014: 14207426.905268004,\n",
       " 2015: 13333488.402907602,\n",
       " 2016: 9428518.17788351,\n",
       " 2017: 11133439.189672021,\n",
       " 2018: 4710773.386125176}"
      ]
     },
     "metadata": {},
     "output_type": "display_data"
    }
   ],
   "source": [
    "#casi con un anno di differenza\n",
    "df2=new_duration[(new_duration[\"anno_dis\"]+1)==new_duration[\"anno_exp\"]]\n",
    "df2[\"fine_anno\"]=df2[\"anno_dis\"].astype(str)+\"-12-31\"\n",
    "df2[\"inizio_anno\"]=df2[\"anno_exp\"].astype(str)+\"-01-01\"\n",
    "df2[\"fine_anno\"]=pd.to_datetime(df2[\"fine_anno\"])\n",
    "df2[\"inizio_anno\"]=pd.to_datetime(df2[\"inizio_anno\"])\n",
    "df2[\"giorni_afine\"]=(df2.loc[:, \"fine_anno\"]-df2.loc[:,\"disburse_time\"].astype('<M8[ns]')).astype('timedelta64[D]')\n",
    "df2[\"giorni_afine\"]=df2[\"giorni_afine\"].apply(lambda i: int(i))\n",
    "df2[\"giorni_ainizio\"]=(df2.loc[:, \"planned_expiration_time\"].astype('<M8[ns]')-df2.loc[:,\"inizio_anno\"]).astype('timedelta64[D]')\n",
    "df2[\"giorni_ainizio\"]=df2[\"giorni_ainizio\"].apply(lambda i: int(i))\n",
    "df2[\"totale_anno1\"]=(df2[\"giorni_afine\"].astype(int)*df2[\"loan_amount\"])/(df2[\"loans_duration\"])\n",
    "df2[\"totale_anno2\"]=(df2[\"giorni_ainizio\"].astype(int)*df2[\"loan_amount\"])/(df2[\"loans_duration\"])\n",
    "diz1=df2.groupby('anno_dis')['totale_anno1'].sum().to_dict()\n",
    "diz2=df2.groupby('anno_exp')['totale_anno2'].sum().to_dict()\n",
    "display(diz1,diz2)"
   ]
  },
  {
   "cell_type": "code",
   "execution_count": 33,
   "metadata": {},
   "outputs": [
    {
     "name": "stderr",
     "output_type": "stream",
     "text": [
      "C:\\Users\\Alessio\\Anaconda3\\lib\\site-packages\\ipykernel_launcher.py:3: SettingWithCopyWarning: \n",
      "A value is trying to be set on a copy of a slice from a DataFrame.\n",
      "Try using .loc[row_indexer,col_indexer] = value instead\n",
      "\n",
      "See the caveats in the documentation: http://pandas.pydata.org/pandas-docs/stable/user_guide/indexing.html#returning-a-view-versus-a-copy\n",
      "  This is separate from the ipykernel package so we can avoid doing imports until\n",
      "C:\\Users\\Alessio\\Anaconda3\\lib\\site-packages\\ipykernel_launcher.py:4: SettingWithCopyWarning: \n",
      "A value is trying to be set on a copy of a slice from a DataFrame.\n",
      "Try using .loc[row_indexer,col_indexer] = value instead\n",
      "\n",
      "See the caveats in the documentation: http://pandas.pydata.org/pandas-docs/stable/user_guide/indexing.html#returning-a-view-versus-a-copy\n",
      "  after removing the cwd from sys.path.\n",
      "C:\\Users\\Alessio\\Anaconda3\\lib\\site-packages\\ipykernel_launcher.py:5: SettingWithCopyWarning: \n",
      "A value is trying to be set on a copy of a slice from a DataFrame.\n",
      "Try using .loc[row_indexer,col_indexer] = value instead\n",
      "\n",
      "See the caveats in the documentation: http://pandas.pydata.org/pandas-docs/stable/user_guide/indexing.html#returning-a-view-versus-a-copy\n",
      "  \"\"\"\n",
      "C:\\Users\\Alessio\\Anaconda3\\lib\\site-packages\\ipykernel_launcher.py:6: SettingWithCopyWarning: \n",
      "A value is trying to be set on a copy of a slice from a DataFrame.\n",
      "Try using .loc[row_indexer,col_indexer] = value instead\n",
      "\n",
      "See the caveats in the documentation: http://pandas.pydata.org/pandas-docs/stable/user_guide/indexing.html#returning-a-view-versus-a-copy\n",
      "  \n",
      "C:\\Users\\Alessio\\Anaconda3\\lib\\site-packages\\ipykernel_launcher.py:7: SettingWithCopyWarning: \n",
      "A value is trying to be set on a copy of a slice from a DataFrame.\n",
      "Try using .loc[row_indexer,col_indexer] = value instead\n",
      "\n",
      "See the caveats in the documentation: http://pandas.pydata.org/pandas-docs/stable/user_guide/indexing.html#returning-a-view-versus-a-copy\n",
      "  import sys\n",
      "C:\\Users\\Alessio\\Anaconda3\\lib\\site-packages\\ipykernel_launcher.py:8: SettingWithCopyWarning: \n",
      "A value is trying to be set on a copy of a slice from a DataFrame.\n",
      "Try using .loc[row_indexer,col_indexer] = value instead\n",
      "\n",
      "See the caveats in the documentation: http://pandas.pydata.org/pandas-docs/stable/user_guide/indexing.html#returning-a-view-versus-a-copy\n",
      "  \n",
      "C:\\Users\\Alessio\\Anaconda3\\lib\\site-packages\\ipykernel_launcher.py:9: SettingWithCopyWarning: \n",
      "A value is trying to be set on a copy of a slice from a DataFrame.\n",
      "Try using .loc[row_indexer,col_indexer] = value instead\n",
      "\n",
      "See the caveats in the documentation: http://pandas.pydata.org/pandas-docs/stable/user_guide/indexing.html#returning-a-view-versus-a-copy\n",
      "  if __name__ == '__main__':\n",
      "C:\\Users\\Alessio\\Anaconda3\\lib\\site-packages\\ipykernel_launcher.py:10: SettingWithCopyWarning: \n",
      "A value is trying to be set on a copy of a slice from a DataFrame.\n",
      "Try using .loc[row_indexer,col_indexer] = value instead\n",
      "\n",
      "See the caveats in the documentation: http://pandas.pydata.org/pandas-docs/stable/user_guide/indexing.html#returning-a-view-versus-a-copy\n",
      "  # Remove the CWD from sys.path while we load stuff.\n",
      "C:\\Users\\Alessio\\Anaconda3\\lib\\site-packages\\ipykernel_launcher.py:11: SettingWithCopyWarning: \n",
      "A value is trying to be set on a copy of a slice from a DataFrame.\n",
      "Try using .loc[row_indexer,col_indexer] = value instead\n",
      "\n",
      "See the caveats in the documentation: http://pandas.pydata.org/pandas-docs/stable/user_guide/indexing.html#returning-a-view-versus-a-copy\n",
      "  # This is added back by InteractiveShellApp.init_path()\n",
      "C:\\Users\\Alessio\\Anaconda3\\lib\\site-packages\\ipykernel_launcher.py:12: SettingWithCopyWarning: \n",
      "A value is trying to be set on a copy of a slice from a DataFrame.\n",
      "Try using .loc[row_indexer,col_indexer] = value instead\n",
      "\n",
      "See the caveats in the documentation: http://pandas.pydata.org/pandas-docs/stable/user_guide/indexing.html#returning-a-view-versus-a-copy\n",
      "  if sys.path[0] == '':\n",
      "C:\\Users\\Alessio\\Anaconda3\\lib\\site-packages\\ipykernel_launcher.py:13: SettingWithCopyWarning: \n",
      "A value is trying to be set on a copy of a slice from a DataFrame.\n",
      "Try using .loc[row_indexer,col_indexer] = value instead\n",
      "\n",
      "See the caveats in the documentation: http://pandas.pydata.org/pandas-docs/stable/user_guide/indexing.html#returning-a-view-versus-a-copy\n",
      "  del sys.path[0]\n",
      "C:\\Users\\Alessio\\Anaconda3\\lib\\site-packages\\ipykernel_launcher.py:14: SettingWithCopyWarning: \n",
      "A value is trying to be set on a copy of a slice from a DataFrame.\n",
      "Try using .loc[row_indexer,col_indexer] = value instead\n",
      "\n",
      "See the caveats in the documentation: http://pandas.pydata.org/pandas-docs/stable/user_guide/indexing.html#returning-a-view-versus-a-copy\n",
      "  \n"
     ]
    },
    {
     "data": {
      "text/plain": [
       "{2011: 212.99234111396422, 2012: 30282.59610687777}"
      ]
     },
     "metadata": {},
     "output_type": "display_data"
    },
    {
     "data": {
      "text/plain": [
       "{2016: 36016.32595236585}"
      ]
     },
     "metadata": {},
     "output_type": "display_data"
    }
   ],
   "source": [
    "#casi con più anni di differenza\n",
    "df3=new_duration[(new_duration[\"anno_dis\"]+1)<new_duration[\"anno_exp\"]]\n",
    "df3[\"fine_anno\"]=df3[\"anno_dis\"].astype(str)+\"-12-31\"\n",
    "df3[\"inizio_anno\"]=df3[\"anno_exp\"].astype(str)+\"-01-01\"\n",
    "df3[\"fine_anno\"]=pd.to_datetime(df3[\"fine_anno\"])\n",
    "df3[\"inizio_anno\"]=pd.to_datetime(df3[\"inizio_anno\"])\n",
    "df3[\"giorni_afine\"]=(df3.loc[:, \"fine_anno\"]-df3.loc[:,\"disburse_time\"].astype('<M8[ns]')).astype('timedelta64[D]')\n",
    "df3[\"giorni_afine\"]=df3[\"giorni_afine\"].apply(lambda i: int(i))\n",
    "df3[\"giorni_ainizio\"]=(df3.loc[:, \"planned_expiration_time\"].astype('<M8[ns]')-df3.loc[:,\"inizio_anno\"]).astype('timedelta64[D]')\n",
    "df3[\"giorni_ainizio\"]=df3[\"giorni_ainizio\"].apply(lambda i: int(i))\n",
    "df3[\"totale_anno1\"]=(df3[\"giorni_afine\"].astype(int)*df3[\"loan_amount\"])/(df3[\"loans_duration\"])\n",
    "df3[\"totale_anno2\"]=(df3[\"giorni_ainizio\"].astype(int)*df3[\"loan_amount\"])/(df3[\"loans_duration\"])\n",
    "df3[\"differenza\"]=df3[\"anno_exp\"]-df3[\"anno_dis\"]-1\n",
    "df3[\"totale_altri_anni\"]=(365*df3[\"loan_amount\"])/(df3[\"loans_duration\"])\n",
    "df3\n",
    "diz3=df3.groupby('anno_dis')['totale_anno1'].sum().to_dict()\n",
    "diz4=df3.groupby('anno_exp')['totale_anno2'].sum().to_dict()\n",
    "display(diz3,diz4)"
   ]
  },
  {
   "cell_type": "code",
   "execution_count": 34,
   "metadata": {
    "scrolled": false
   },
   "outputs": [
    {
     "data": {
      "text/plain": [
       "{2012: 6970.144908892993,\n",
       " 2013: 73033.10540340861,\n",
       " 2014: 73033.10540340861,\n",
       " 2015: 73033.10540340861}"
      ]
     },
     "execution_count": 34,
     "metadata": {},
     "output_type": "execute_result"
    }
   ],
   "source": [
    "diz5={}\n",
    "for i in range(0,len(df3)):\n",
    "    anno_dis=df3.iloc[i,4]+1\n",
    "    anno_exp=df3.iloc[i,5]\n",
    "    while anno_dis!=anno_exp:\n",
    "        if anno_dis not in diz5:\n",
    "            diz5[anno_dis]=df3.iloc[i,-1]\n",
    "            anno_dis+=1\n",
    "        else: \n",
    "            diz5[anno_dis]+=df3.iloc[i,-1]\n",
    "            anno_dis+=1\n",
    "diz5   \n",
    "#i risultati sono sempre gli stessi per 2013-4-5 perchè la fine è sempre nel 2016"
   ]
  },
  {
   "cell_type": "code",
   "execution_count": 37,
   "metadata": {},
   "outputs": [
    {
     "data": {
      "text/plain": [
       "Counter({2012: 113050220.18956244,\n",
       "         2013: 123289437.0591257,\n",
       "         2014: 150328284.4065337,\n",
       "         2015: 154838533.03491005,\n",
       "         2016: 153769730.60360256,\n",
       "         2017: 165109383.52785224,\n",
       "         2018: 4796073.386125176,\n",
       "         2011: 631678.3440311766})"
      ]
     },
     "execution_count": 37,
     "metadata": {},
     "output_type": "execute_result"
    }
   ],
   "source": [
    "#somma di tutti i dizionari\n",
    "from collections import Counter \n",
    "totale= Counter(diz) + Counter(diz1) + Counter(diz2)+ Counter(diz3)+ Counter(diz4)+ Counter(diz5)\n",
    "totale"
   ]
  }
 ],
 "metadata": {
  "kernelspec": {
   "display_name": "Python 3",
   "language": "python",
   "name": "python3"
  },
  "language_info": {
   "codemirror_mode": {
    "name": "ipython",
    "version": 3
   },
   "file_extension": ".py",
   "mimetype": "text/x-python",
   "name": "python",
   "nbconvert_exporter": "python",
   "pygments_lexer": "ipython3",
   "version": "3.7.4"
  }
 },
 "nbformat": 4,
 "nbformat_minor": 2
}
